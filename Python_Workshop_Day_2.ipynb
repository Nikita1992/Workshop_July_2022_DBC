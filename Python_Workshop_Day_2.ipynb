{
 "cells": [
  {
   "cell_type": "markdown",
   "metadata": {
    "id": "recBQJntv-iU",
    "slideshow": {
     "slide_type": "slide"
    }
   },
   "source": [
    "# Some More Python Basics"
   ]
  },
  {
   "cell_type": "markdown",
   "metadata": {
    "id": "Z1FHKubIAyVZ",
    "slideshow": {
     "slide_type": "slide"
    }
   },
   "source": [
    "## Objects 📭\n",
    "\n",
    "- Objects carry some things around with them. \n",
    "  - Access them using dot syntax\n",
    "- E.g. Numbers in Python carry an associated variable called imag \n",
    "  - x = 12 then we **print(x.imag)**"
   ]
  },
  {
   "cell_type": "markdown",
   "metadata": {
    "id": "wVMQWgx1DPD5",
    "slideshow": {
     "slide_type": "subslide"
    }
   },
   "source": [
    "- The thing an object carries around can also **include functions**. \n",
    "\n",
    "- A function attached to an object is called a ***method***.\n",
    "  - To call (or use) it, we add parenthesis\n",
    "  \n",
    "  - Non-function things (for which we don't put any brackets like 'imag' are called ***attributes***"
   ]
  },
  {
   "cell_type": "markdown",
   "metadata": {
    "id": "vUlrCvzgE7eP",
    "slideshow": {
     "slide_type": "fragment"
    }
   },
   "source": [
    "- **Lists**, we saw before, have **methods** like append \n",
    "   - countries_list**.append**('United States')"
   ]
  },
  {
   "cell_type": "markdown",
   "metadata": {
    "id": "cREm0mjRljdp",
    "slideshow": {
     "slide_type": "slide"
    }
   },
   "source": [
    "## Loops ➿ 💻\n",
    "\n",
    "- A way to repeatedly execute some code. "
   ]
  },
  {
   "cell_type": "code",
   "execution_count": 32,
   "metadata": {
    "colab": {
     "base_uri": "https://localhost:8080/"
    },
    "id": "cwXoxgr4ljIu",
    "outputId": "fb184906-de9f-44cf-e336-0278b758f13d",
    "slideshow": {
     "slide_type": "fragment"
    }
   },
   "outputs": [
    {
     "name": "stdout",
     "output_type": "stream",
     "text": [
      "India\n",
      "China\n",
      "Russia\n",
      "Japan\n",
      "Thailand\n"
     ]
    }
   ],
   "source": [
    "countries = ['India', 'China', 'Russia', 'Japan', 'Thailand']\n",
    "\n",
    "for country in countries:\n",
    "  print(country, sep=' ')"
   ]
  },
  {
   "cell_type": "markdown",
   "metadata": {
    "id": "UCE2xqeImPAE",
    "slideshow": {
     "slide_type": "slide"
    }
   },
   "source": [
    "'**for**' loop specifies \n",
    "- the variable name to use (here, country)\n",
    "- the set of values to loop over (here, countries)"
   ]
  },
  {
   "cell_type": "code",
   "execution_count": 33,
   "metadata": {
    "colab": {
     "base_uri": "https://localhost:8080/"
    },
    "id": "fWw-nsy2AyCc",
    "outputId": "25bb362a-3963-47aa-a7f7-cc0a077e9795",
    "slideshow": {
     "slide_type": "fragment"
    }
   },
   "outputs": [
    {
     "name": "stdout",
     "output_type": "stream",
     "text": [
      "HELLO"
     ]
    }
   ],
   "source": [
    "b = 'He Eats both Lime and Lemon Over picking one.'\n",
    "\n",
    "for char in b:\n",
    "  if char.isupper():    # prints all the uppercase letters in b, \n",
    "                        # one at a time\n",
    "    print(char, end='') # with 'end' we can put all in the same line"
   ]
  },
  {
   "cell_type": "markdown",
   "metadata": {
    "id": "cgIrdZ_poQ43",
    "slideshow": {
     "slide_type": "slide"
    }
   },
   "source": [
    "**range()**\n",
    "\n",
    "- is a function that returns a sequence of numbers. \n",
    "  - can prove useful for writing loops"
   ]
  },
  {
   "cell_type": "code",
   "execution_count": 34,
   "metadata": {
    "colab": {
     "base_uri": "https://localhost:8080/"
    },
    "id": "VQPwod90uZDf",
    "outputId": "89505749-9461-455f-8baa-7b5c5e4a9136",
    "slideshow": {
     "slide_type": "fragment"
    }
   },
   "outputs": [
    {
     "name": "stdout",
     "output_type": "stream",
     "text": [
      "Number of students. i = 0\n",
      "Number of students. i = 1\n",
      "Number of students. i = 2\n",
      "Number of students. i = 3\n",
      "Number of students. i = 4\n"
     ]
    }
   ],
   "source": [
    "for i in range(5):\n",
    "  print('Number of students. i =', i)"
   ]
  },
  {
   "cell_type": "markdown",
   "metadata": {
    "id": "MlMIvORlowgy",
    "slideshow": {
     "slide_type": "slide"
    }
   },
   "source": [
    "**while** loops\n",
    "\n",
    "- iterates till the time some condition is met"
   ]
  },
  {
   "cell_type": "code",
   "execution_count": 35,
   "metadata": {
    "colab": {
     "base_uri": "https://localhost:8080/"
    },
    "id": "tcFjE2nMyJ_L",
    "outputId": "774da319-8c2a-4e4c-de9e-6c76b294165f",
    "slideshow": {
     "slide_type": "fragment"
    }
   },
   "outputs": [
    {
     "name": "stdout",
     "output_type": "stream",
     "text": [
      "0 1 2 3 4 5 6 7 8 9 "
     ]
    }
   ],
   "source": [
    "i = 0\n",
    "while i < 10:\n",
    "  print(i, end=' ')\n",
    "  i += 1"
   ]
  },
  {
   "cell_type": "markdown",
   "metadata": {
    "id": "GGCGDJ36rlr2",
    "slideshow": {
     "slide_type": "slide"
    }
   },
   "source": [
    "## Dictionaries 🎓\n",
    "\n",
    "- data structure to map keys to values. "
   ]
  },
  {
   "cell_type": "code",
   "execution_count": 36,
   "metadata": {
    "id": "Wcncmpl0yJ8j",
    "slideshow": {
     "slide_type": "fragment"
    }
   },
   "outputs": [],
   "source": [
    "numbers = {'one': 1, 'two': 2, 'three': 3}\n",
    "\n",
    "# Here, \n",
    "# 'one', 'two' and 'three' are keys \n",
    "# 1, 2 and 3 are corresponding values"
   ]
  },
  {
   "cell_type": "code",
   "execution_count": 37,
   "metadata": {
    "colab": {
     "base_uri": "https://localhost:8080/"
    },
    "id": "07gLPOBxsHyw",
    "outputId": "6b5e8be1-4c34-45d4-fdf7-fd0ba81aef4d",
    "slideshow": {
     "slide_type": "subslide"
    }
   },
   "outputs": [
    {
     "data": {
      "text/plain": [
       "1"
      ]
     },
     "execution_count": 37,
     "metadata": {},
     "output_type": "execute_result"
    }
   ],
   "source": [
    "# Values are accessed via square bracket similar to indexing into lists\n",
    "\n",
    "numbers['one']"
   ]
  },
  {
   "cell_type": "code",
   "execution_count": 38,
   "metadata": {
    "colab": {
     "base_uri": "https://localhost:8080/"
    },
    "id": "X-8rW3v9yJ56",
    "outputId": "4542cb7e-f5a3-49ed-e073-60ed2419c7ec",
    "slideshow": {
     "slide_type": "fragment"
    }
   },
   "outputs": [
    {
     "data": {
      "text/plain": [
       "{'one': 'India', 'three': 3, 'two': 2}"
      ]
     },
     "execution_count": 38,
     "metadata": {},
     "output_type": "execute_result"
    }
   ],
   "source": [
    "# Change the value associated with a key \n",
    "\n",
    "numbers['one'] = 'India'\n",
    "numbers"
   ]
  },
  {
   "cell_type": "markdown",
   "metadata": {
    "id": "5dGQ_91cIcqi",
    "slideshow": {
     "slide_type": "slide"
    }
   },
   "source": [
    "# Introduction to Data Analysis 📊"
   ]
  },
  {
   "cell_type": "markdown",
   "metadata": {
    "id": "dkjQhamTJfvZ",
    "slideshow": {
     "slide_type": "slide"
    }
   },
   "source": [
    "## Working with External Libraries 📚"
   ]
  },
  {
   "cell_type": "markdown",
   "metadata": {
    "id": "cYjG7VJ0KMtf",
    "slideshow": {
     "slide_type": "fragment"
    }
   },
   "source": [
    "## Imports \n",
    "\n",
    "- Large number of libraries are available with Python that can be used. \n",
    "- Sometimes, we need to add or install the necessary library. \n",
    "- After that, in Python's language, we need to **import** the library to be able to access the code.  "
   ]
  },
  {
   "cell_type": "code",
   "execution_count": 39,
   "metadata": {
    "colab": {
     "base_uri": "https://localhost:8080/"
    },
    "id": "5O20H__4QaFx",
    "outputId": "cacba49e-6753-44ad-cac1-8c7ac6d8bf36",
    "slideshow": {
     "slide_type": "subslide"
    }
   },
   "outputs": [
    {
     "name": "stdout",
     "output_type": "stream",
     "text": [
      "Looking in indexes: https://pypi.org/simple, https://us-python.pkg.dev/colab-wheels/public/simple/\n",
      "Requirement already satisfied: pandas in /usr/local/lib/python3.7/dist-packages (1.3.5)\n",
      "Requirement already satisfied: matplotlib in /usr/local/lib/python3.7/dist-packages (3.2.2)\n",
      "Requirement already satisfied: numpy>=1.17.3 in /usr/local/lib/python3.7/dist-packages (from pandas) (1.21.6)\n",
      "Requirement already satisfied: python-dateutil>=2.7.3 in /usr/local/lib/python3.7/dist-packages (from pandas) (2.8.2)\n",
      "Requirement already satisfied: pytz>=2017.3 in /usr/local/lib/python3.7/dist-packages (from pandas) (2022.1)\n",
      "Requirement already satisfied: six>=1.5 in /usr/local/lib/python3.7/dist-packages (from python-dateutil>=2.7.3->pandas) (1.15.0)\n",
      "Requirement already satisfied: cycler>=0.10 in /usr/local/lib/python3.7/dist-packages (from matplotlib) (0.11.0)\n",
      "Requirement already satisfied: pyparsing!=2.0.4,!=2.1.2,!=2.1.6,>=2.0.1 in /usr/local/lib/python3.7/dist-packages (from matplotlib) (3.0.9)\n",
      "Requirement already satisfied: kiwisolver>=1.0.1 in /usr/local/lib/python3.7/dist-packages (from matplotlib) (1.4.3)\n",
      "Requirement already satisfied: typing-extensions in /usr/local/lib/python3.7/dist-packages (from kiwisolver>=1.0.1->matplotlib) (4.1.1)\n"
     ]
    }
   ],
   "source": [
    "%pip install pandas matplotlib\n",
    "\n",
    "# libraries: pandas and matplotlib "
   ]
  },
  {
   "cell_type": "markdown",
   "metadata": {
    "id": "C5gct58tXWxB",
    "slideshow": {
     "slide_type": "slide"
    }
   },
   "source": [
    "**Pandas Series**: is like a column in a table. \n",
    "\n",
    "It is a one-dimensional data structure holding data of any type. \n",
    "\n",
    "**DataFrame**: is a bunch of Series objects put together to share the same index. \n"
   ]
  },
  {
   "cell_type": "code",
   "execution_count": 40,
   "metadata": {
    "id": "dDMvFmrOJfZp",
    "slideshow": {
     "slide_type": "fragment"
    }
   },
   "outputs": [],
   "source": [
    "# Namespace (alias/shorter name) for each library to make repeatitive calling easier\n",
    "import pandas as pd\n",
    "\n",
    "%matplotlib inline              \n",
    "#It allows plots to appear inside the notebook"
   ]
  },
  {
   "cell_type": "code",
   "execution_count": 41,
   "metadata": {
    "id": "Zoc1LhetbneR",
    "slideshow": {
     "slide_type": "slide"
    }
   },
   "outputs": [],
   "source": [
    "df = pd.read_csv('/content/drive/MyDrive/1. DBC_Python_Workshop/Workshop Files Day 2/GNI_constant_2015_USD.csv', \n",
    "                 index_col=0 )"
   ]
  },
  {
   "cell_type": "code",
   "execution_count": 42,
   "metadata": {
    "colab": {
     "base_uri": "https://localhost:8080/",
     "height": 238
    },
    "id": "PriUkHO4bnbv",
    "outputId": "4b6fae20-e3f8-4d43-ceaa-760dc5f0b22e",
    "slideshow": {
     "slide_type": "fragment"
    }
   },
   "outputs": [
    {
     "data": {
      "text/html": [
       "\n",
       "  <div id=\"df-267d2a52-2f52-4df5-b771-917508bb944e\">\n",
       "    <div class=\"colab-df-container\">\n",
       "      <div>\n",
       "<style scoped>\n",
       "    .dataframe tbody tr th:only-of-type {\n",
       "        vertical-align: middle;\n",
       "    }\n",
       "\n",
       "    .dataframe tbody tr th {\n",
       "        vertical-align: top;\n",
       "    }\n",
       "\n",
       "    .dataframe thead th {\n",
       "        text-align: right;\n",
       "    }\n",
       "</style>\n",
       "<table border=\"1\" class=\"dataframe\">\n",
       "  <thead>\n",
       "    <tr style=\"text-align: right;\">\n",
       "      <th></th>\n",
       "      <th>Bangladesh</th>\n",
       "      <th>India</th>\n",
       "    </tr>\n",
       "    <tr>\n",
       "      <th>Year</th>\n",
       "      <th></th>\n",
       "      <th></th>\n",
       "    </tr>\n",
       "  </thead>\n",
       "  <tbody>\n",
       "    <tr>\n",
       "      <th>2000 [YR2000]</th>\n",
       "      <td>8.630522e+10</td>\n",
       "      <td>7.930000e+11</td>\n",
       "    </tr>\n",
       "    <tr>\n",
       "      <th>2001 [YR2001]</th>\n",
       "      <td>9.050204e+10</td>\n",
       "      <td>8.330000e+11</td>\n",
       "    </tr>\n",
       "    <tr>\n",
       "      <th>2002 [YR2002]</th>\n",
       "      <td>9.482182e+10</td>\n",
       "      <td>8.650000e+11</td>\n",
       "    </tr>\n",
       "    <tr>\n",
       "      <th>2003 [YR2003]</th>\n",
       "      <td>9.932880e+10</td>\n",
       "      <td>9.330000e+11</td>\n",
       "    </tr>\n",
       "    <tr>\n",
       "      <th>2004 [YR2004]</th>\n",
       "      <td>1.050000e+11</td>\n",
       "      <td>1.010000e+12</td>\n",
       "    </tr>\n",
       "  </tbody>\n",
       "</table>\n",
       "</div>\n",
       "      <button class=\"colab-df-convert\" onclick=\"convertToInteractive('df-267d2a52-2f52-4df5-b771-917508bb944e')\"\n",
       "              title=\"Convert this dataframe to an interactive table.\"\n",
       "              style=\"display:none;\">\n",
       "        \n",
       "  <svg xmlns=\"http://www.w3.org/2000/svg\" height=\"24px\"viewBox=\"0 0 24 24\"\n",
       "       width=\"24px\">\n",
       "    <path d=\"M0 0h24v24H0V0z\" fill=\"none\"/>\n",
       "    <path d=\"M18.56 5.44l.94 2.06.94-2.06 2.06-.94-2.06-.94-.94-2.06-.94 2.06-2.06.94zm-11 1L8.5 8.5l.94-2.06 2.06-.94-2.06-.94L8.5 2.5l-.94 2.06-2.06.94zm10 10l.94 2.06.94-2.06 2.06-.94-2.06-.94-.94-2.06-.94 2.06-2.06.94z\"/><path d=\"M17.41 7.96l-1.37-1.37c-.4-.4-.92-.59-1.43-.59-.52 0-1.04.2-1.43.59L10.3 9.45l-7.72 7.72c-.78.78-.78 2.05 0 2.83L4 21.41c.39.39.9.59 1.41.59.51 0 1.02-.2 1.41-.59l7.78-7.78 2.81-2.81c.8-.78.8-2.07 0-2.86zM5.41 20L4 18.59l7.72-7.72 1.47 1.35L5.41 20z\"/>\n",
       "  </svg>\n",
       "      </button>\n",
       "      \n",
       "  <style>\n",
       "    .colab-df-container {\n",
       "      display:flex;\n",
       "      flex-wrap:wrap;\n",
       "      gap: 12px;\n",
       "    }\n",
       "\n",
       "    .colab-df-convert {\n",
       "      background-color: #E8F0FE;\n",
       "      border: none;\n",
       "      border-radius: 50%;\n",
       "      cursor: pointer;\n",
       "      display: none;\n",
       "      fill: #1967D2;\n",
       "      height: 32px;\n",
       "      padding: 0 0 0 0;\n",
       "      width: 32px;\n",
       "    }\n",
       "\n",
       "    .colab-df-convert:hover {\n",
       "      background-color: #E2EBFA;\n",
       "      box-shadow: 0px 1px 2px rgba(60, 64, 67, 0.3), 0px 1px 3px 1px rgba(60, 64, 67, 0.15);\n",
       "      fill: #174EA6;\n",
       "    }\n",
       "\n",
       "    [theme=dark] .colab-df-convert {\n",
       "      background-color: #3B4455;\n",
       "      fill: #D2E3FC;\n",
       "    }\n",
       "\n",
       "    [theme=dark] .colab-df-convert:hover {\n",
       "      background-color: #434B5C;\n",
       "      box-shadow: 0px 1px 3px 1px rgba(0, 0, 0, 0.15);\n",
       "      filter: drop-shadow(0px 1px 2px rgba(0, 0, 0, 0.3));\n",
       "      fill: #FFFFFF;\n",
       "    }\n",
       "  </style>\n",
       "\n",
       "      <script>\n",
       "        const buttonEl =\n",
       "          document.querySelector('#df-267d2a52-2f52-4df5-b771-917508bb944e button.colab-df-convert');\n",
       "        buttonEl.style.display =\n",
       "          google.colab.kernel.accessAllowed ? 'block' : 'none';\n",
       "\n",
       "        async function convertToInteractive(key) {\n",
       "          const element = document.querySelector('#df-267d2a52-2f52-4df5-b771-917508bb944e');\n",
       "          const dataTable =\n",
       "            await google.colab.kernel.invokeFunction('convertToInteractive',\n",
       "                                                     [key], {});\n",
       "          if (!dataTable) return;\n",
       "\n",
       "          const docLinkHtml = 'Like what you see? Visit the ' +\n",
       "            '<a target=\"_blank\" href=https://colab.research.google.com/notebooks/data_table.ipynb>data table notebook</a>'\n",
       "            + ' to learn more about interactive tables.';\n",
       "          element.innerHTML = '';\n",
       "          dataTable['output_type'] = 'display_data';\n",
       "          await google.colab.output.renderOutput(dataTable, element);\n",
       "          const docLink = document.createElement('div');\n",
       "          docLink.innerHTML = docLinkHtml;\n",
       "          element.appendChild(docLink);\n",
       "        }\n",
       "      </script>\n",
       "    </div>\n",
       "  </div>\n",
       "  "
      ],
      "text/plain": [
       "                 Bangladesh         India\n",
       "Year                                     \n",
       "2000 [YR2000]  8.630522e+10  7.930000e+11\n",
       "2001 [YR2001]  9.050204e+10  8.330000e+11\n",
       "2002 [YR2002]  9.482182e+10  8.650000e+11\n",
       "2003 [YR2003]  9.932880e+10  9.330000e+11\n",
       "2004 [YR2004]  1.050000e+11  1.010000e+12"
      ]
     },
     "execution_count": 42,
     "metadata": {},
     "output_type": "execute_result"
    }
   ],
   "source": [
    "df.head()"
   ]
  },
  {
   "cell_type": "code",
   "execution_count": 45,
   "metadata": {
    "colab": {
     "base_uri": "https://localhost:8080/",
     "height": 300
    },
    "id": "RjxEVdxViOp4",
    "outputId": "c765db6e-280d-4d7a-cc55-36ad645b3814",
    "slideshow": {
     "slide_type": "subslide"
    }
   },
   "outputs": [
    {
     "data": {
      "text/html": [
       "\n",
       "  <div id=\"df-bed4383d-6a7c-43c1-b495-f7a35f9bf469\">\n",
       "    <div class=\"colab-df-container\">\n",
       "      <div>\n",
       "<style scoped>\n",
       "    .dataframe tbody tr th:only-of-type {\n",
       "        vertical-align: middle;\n",
       "    }\n",
       "\n",
       "    .dataframe tbody tr th {\n",
       "        vertical-align: top;\n",
       "    }\n",
       "\n",
       "    .dataframe thead th {\n",
       "        text-align: right;\n",
       "    }\n",
       "</style>\n",
       "<table border=\"1\" class=\"dataframe\">\n",
       "  <thead>\n",
       "    <tr style=\"text-align: right;\">\n",
       "      <th></th>\n",
       "      <th>Bangladesh</th>\n",
       "      <th>India</th>\n",
       "    </tr>\n",
       "  </thead>\n",
       "  <tbody>\n",
       "    <tr>\n",
       "      <th>count</th>\n",
       "      <td>2.200000e+01</td>\n",
       "      <td>2.200000e+01</td>\n",
       "    </tr>\n",
       "    <tr>\n",
       "      <th>mean</th>\n",
       "      <td>1.708617e+11</td>\n",
       "      <td>1.651545e+12</td>\n",
       "    </tr>\n",
       "    <tr>\n",
       "      <th>std</th>\n",
       "      <td>6.559565e+10</td>\n",
       "      <td>6.416905e+11</td>\n",
       "    </tr>\n",
       "    <tr>\n",
       "      <th>min</th>\n",
       "      <td>8.630522e+10</td>\n",
       "      <td>7.930000e+11</td>\n",
       "    </tr>\n",
       "    <tr>\n",
       "      <th>25%</th>\n",
       "      <td>1.142500e+11</td>\n",
       "      <td>1.110000e+12</td>\n",
       "    </tr>\n",
       "    <tr>\n",
       "      <th>50%</th>\n",
       "      <td>1.600000e+11</td>\n",
       "      <td>1.560000e+12</td>\n",
       "    </tr>\n",
       "    <tr>\n",
       "      <th>75%</th>\n",
       "      <td>2.162500e+11</td>\n",
       "      <td>2.207500e+12</td>\n",
       "    </tr>\n",
       "    <tr>\n",
       "      <th>max</th>\n",
       "      <td>3.000000e+11</td>\n",
       "      <td>2.690000e+12</td>\n",
       "    </tr>\n",
       "  </tbody>\n",
       "</table>\n",
       "</div>\n",
       "      <button class=\"colab-df-convert\" onclick=\"convertToInteractive('df-bed4383d-6a7c-43c1-b495-f7a35f9bf469')\"\n",
       "              title=\"Convert this dataframe to an interactive table.\"\n",
       "              style=\"display:none;\">\n",
       "        \n",
       "  <svg xmlns=\"http://www.w3.org/2000/svg\" height=\"24px\"viewBox=\"0 0 24 24\"\n",
       "       width=\"24px\">\n",
       "    <path d=\"M0 0h24v24H0V0z\" fill=\"none\"/>\n",
       "    <path d=\"M18.56 5.44l.94 2.06.94-2.06 2.06-.94-2.06-.94-.94-2.06-.94 2.06-2.06.94zm-11 1L8.5 8.5l.94-2.06 2.06-.94-2.06-.94L8.5 2.5l-.94 2.06-2.06.94zm10 10l.94 2.06.94-2.06 2.06-.94-2.06-.94-.94-2.06-.94 2.06-2.06.94z\"/><path d=\"M17.41 7.96l-1.37-1.37c-.4-.4-.92-.59-1.43-.59-.52 0-1.04.2-1.43.59L10.3 9.45l-7.72 7.72c-.78.78-.78 2.05 0 2.83L4 21.41c.39.39.9.59 1.41.59.51 0 1.02-.2 1.41-.59l7.78-7.78 2.81-2.81c.8-.78.8-2.07 0-2.86zM5.41 20L4 18.59l7.72-7.72 1.47 1.35L5.41 20z\"/>\n",
       "  </svg>\n",
       "      </button>\n",
       "      \n",
       "  <style>\n",
       "    .colab-df-container {\n",
       "      display:flex;\n",
       "      flex-wrap:wrap;\n",
       "      gap: 12px;\n",
       "    }\n",
       "\n",
       "    .colab-df-convert {\n",
       "      background-color: #E8F0FE;\n",
       "      border: none;\n",
       "      border-radius: 50%;\n",
       "      cursor: pointer;\n",
       "      display: none;\n",
       "      fill: #1967D2;\n",
       "      height: 32px;\n",
       "      padding: 0 0 0 0;\n",
       "      width: 32px;\n",
       "    }\n",
       "\n",
       "    .colab-df-convert:hover {\n",
       "      background-color: #E2EBFA;\n",
       "      box-shadow: 0px 1px 2px rgba(60, 64, 67, 0.3), 0px 1px 3px 1px rgba(60, 64, 67, 0.15);\n",
       "      fill: #174EA6;\n",
       "    }\n",
       "\n",
       "    [theme=dark] .colab-df-convert {\n",
       "      background-color: #3B4455;\n",
       "      fill: #D2E3FC;\n",
       "    }\n",
       "\n",
       "    [theme=dark] .colab-df-convert:hover {\n",
       "      background-color: #434B5C;\n",
       "      box-shadow: 0px 1px 3px 1px rgba(0, 0, 0, 0.15);\n",
       "      filter: drop-shadow(0px 1px 2px rgba(0, 0, 0, 0.3));\n",
       "      fill: #FFFFFF;\n",
       "    }\n",
       "  </style>\n",
       "\n",
       "      <script>\n",
       "        const buttonEl =\n",
       "          document.querySelector('#df-bed4383d-6a7c-43c1-b495-f7a35f9bf469 button.colab-df-convert');\n",
       "        buttonEl.style.display =\n",
       "          google.colab.kernel.accessAllowed ? 'block' : 'none';\n",
       "\n",
       "        async function convertToInteractive(key) {\n",
       "          const element = document.querySelector('#df-bed4383d-6a7c-43c1-b495-f7a35f9bf469');\n",
       "          const dataTable =\n",
       "            await google.colab.kernel.invokeFunction('convertToInteractive',\n",
       "                                                     [key], {});\n",
       "          if (!dataTable) return;\n",
       "\n",
       "          const docLinkHtml = 'Like what you see? Visit the ' +\n",
       "            '<a target=\"_blank\" href=https://colab.research.google.com/notebooks/data_table.ipynb>data table notebook</a>'\n",
       "            + ' to learn more about interactive tables.';\n",
       "          element.innerHTML = '';\n",
       "          dataTable['output_type'] = 'display_data';\n",
       "          await google.colab.output.renderOutput(dataTable, element);\n",
       "          const docLink = document.createElement('div');\n",
       "          docLink.innerHTML = docLinkHtml;\n",
       "          element.appendChild(docLink);\n",
       "        }\n",
       "      </script>\n",
       "    </div>\n",
       "  </div>\n",
       "  "
      ],
      "text/plain": [
       "         Bangladesh         India\n",
       "count  2.200000e+01  2.200000e+01\n",
       "mean   1.708617e+11  1.651545e+12\n",
       "std    6.559565e+10  6.416905e+11\n",
       "min    8.630522e+10  7.930000e+11\n",
       "25%    1.142500e+11  1.110000e+12\n",
       "50%    1.600000e+11  1.560000e+12\n",
       "75%    2.162500e+11  2.207500e+12\n",
       "max    3.000000e+11  2.690000e+12"
      ]
     },
     "execution_count": 45,
     "metadata": {},
     "output_type": "execute_result"
    }
   ],
   "source": [
    "df.describe()"
   ]
  },
  {
   "cell_type": "code",
   "execution_count": 46,
   "metadata": {
    "colab": {
     "base_uri": "https://localhost:8080/",
     "height": 259
    },
    "id": "adjkoePPbnZU",
    "outputId": "92c037f8-7b3c-4f65-a678-f202ba48d914",
    "slideshow": {
     "slide_type": "subslide"
    }
   },
   "outputs": [
    {
     "data": {
      "text/plain": [
       "<matplotlib.axes._subplots.AxesSubplot at 0x7fb197d51490>"
      ]
     },
     "execution_count": 46,
     "metadata": {},
     "output_type": "execute_result"
    },
    {
     "data": {
      "image/png": "[encoded data removed]",
      "text/plain": [
       "<Figure size 864x216 with 1 Axes>"
      ]
     },
     "metadata": {
      "needs_background": "light"
     },
     "output_type": "display_data"
    }
   ],
   "source": [
    "df.plot.line(figsize=(12,3), lw=2, title = 'GNI Constant 2015 USD')"
   ]
  }
 ],
 "metadata": {
  "celltoolbar": "Slideshow",
  "colab": {
   "name": "Python Workshop Day 2.ipynb",
   "provenance": []
  },
  "kernelspec": {
   "display_name": "Python 3 (ipykernel)",
   "language": "python",
   "name": "python3"
  },
  "language_info": {
   "codemirror_mode": {
    "name": "ipython",
    "version": 3
   },
   "file_extension": ".py",
   "mimetype": "text/x-python",
   "name": "python",
   "nbconvert_exporter": "python",
   "pygments_lexer": "ipython3",
   "version": "3.10.3"
  }
 },
 "nbformat": 4,
 "nbformat_minor": 1
}
