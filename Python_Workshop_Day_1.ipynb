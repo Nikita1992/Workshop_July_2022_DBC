{
 "cells": [
  {
   "cell_type": "markdown",
   "metadata": {
    "slideshow": {
     "slide_type": "slide"
    }
   },
   "source": [
    "# Introduction to Python"
   ]
  },
  {
   "cell_type": "markdown",
   "metadata": {
    "id": "dPinCgha0CuV",
    "slideshow": {
     "slide_type": "slide"
    }
   },
   "source": [
    "### '**print**' away 🖨\n",
    "\n",
    "- a (built-in) python function that displays the value passed to it"
   ]
  },
  {
   "cell_type": "code",
   "execution_count": 13,
   "metadata": {
    "colab": {
     "base_uri": "https://localhost:8080/"
    },
    "id": "FcmUgqV2vwzM",
    "outputId": "8eb09279-e9c1-4019-d583-b6c4887765f0",
    "slideshow": {
     "slide_type": "fragment"
    }
   },
   "outputs": [
    {
     "name": "stdout",
     "output_type": "stream",
     "text": [
      "Hello, World!\n"
     ]
    }
   ],
   "source": [
    "print(\"Hello, World!\")"
   ]
  },
  {
   "cell_type": "code",
   "execution_count": 14,
   "metadata": {
    "colab": {
     "base_uri": "https://localhost:8080/"
    },
    "id": "B2DUNxrMwdlq",
    "outputId": "5e51e561-d9ce-420f-8c5e-aafe2dda5166",
    "slideshow": {
     "slide_type": "fragment"
    }
   },
   "outputs": [
    {
     "name": "stdout",
     "output_type": "stream",
     "text": [
      "3\n"
     ]
    }
   ],
   "source": [
    "print(1+2)"
   ]
  },
  {
   "cell_type": "code",
   "execution_count": 15,
   "metadata": {
    "colab": {
     "base_uri": "https://localhost:8080/"
    },
    "id": "oAMPd4Tvwdwv",
    "outputId": "66432b87-8cf8-49e4-c1c6-fed4d8a3a0e4",
    "slideshow": {
     "slide_type": "fragment"
    }
   },
   "outputs": [
    {
     "name": "stdout",
     "output_type": "stream",
     "text": [
      "196.0\n"
     ]
    }
   ],
   "source": [
    "print(((1+3)*(9-2)/2)**2)"
   ]
  },
  {
   "cell_type": "markdown",
   "metadata": {
    "id": "6_ejOeXz1-vV",
    "slideshow": {
     "slide_type": "slide"
    }
   },
   "source": [
    "### '**help**' 🙏\n",
    "\n",
    "- to understand the built-in function in Python "
   ]
  },
  {
   "cell_type": "code",
   "execution_count": 16,
   "metadata": {
    "colab": {
     "base_uri": "https://localhost:8080/"
    },
    "id": "y9D6Ro0l1zgQ",
    "outputId": "ddb687e2-2e2b-41f1-bbb3-a73aab3999c0",
    "slideshow": {
     "slide_type": "fragment"
    }
   },
   "outputs": [
    {
     "name": "stdout",
     "output_type": "stream",
     "text": [
      "Help on built-in function print in module builtins:\n",
      "\n",
      "print(...)\n",
      "    print(value, ..., sep=' ', end='\\n', file=sys.stdout, flush=False)\n",
      "    \n",
      "    Prints the values to a stream, or to sys.stdout by default.\n",
      "    Optional keyword arguments:\n",
      "    file:  a file-like object (stream); defaults to the current sys.stdout.\n",
      "    sep:   string inserted between values, default a space.\n",
      "    end:   string appended after the last value, default a newline.\n",
      "    flush: whether to forcibly flush the stream.\n",
      "\n"
     ]
    }
   ],
   "source": [
    "help(print)"
   ]
  },
  {
   "cell_type": "markdown",
   "metadata": {
    "id": "XXoIIa3PyayP",
    "slideshow": {
     "slide_type": "slide"
    }
   },
   "source": [
    "# Arithmetic Operations\n",
    "\n",
    "Operation|Symbol|\n",
    "--|--\n",
    "Addition|+\n",
    "Subtraction|-\n",
    "Multiplication|*\n",
    "Division|/\n",
    "Exponent|**\n",
    "\n"
   ]
  },
  {
   "cell_type": "markdown",
   "metadata": {
    "id": "sj--GSZN2Ben",
    "slideshow": {
     "slide_type": "fragment"
    }
   },
   "source": [
    "Use **Comments** to annotate what the code is doing with the hash symbol **#**. "
   ]
  },
  {
   "cell_type": "code",
   "execution_count": 17,
   "metadata": {
    "colab": {
     "base_uri": "https://localhost:8080/"
    },
    "id": "baKgbjVewd0C",
    "outputId": "5079f7ef-4eee-413d-8f4c-aea0e251488f",
    "slideshow": {
     "slide_type": "fragment"
    }
   },
   "outputs": [
    {
     "name": "stdout",
     "output_type": "stream",
     "text": [
      "2.0\n",
      "16\n",
      "8\n"
     ]
    }
   ],
   "source": [
    "# Divide 4 by 2; exponent; multiply\n",
    "\n",
    "print(4/2)\n",
    "print (4**2)\n",
    "print (4*2)"
   ]
  },
  {
   "cell_type": "markdown",
   "metadata": {
    "id": "C9OKEgMd4x8f",
    "slideshow": {
     "slide_type": "slide"
    }
   },
   "source": [
    "# Variables"
   ]
  },
  {
   "cell_type": "code",
   "execution_count": 18,
   "metadata": {
    "colab": {
     "base_uri": "https://localhost:8080/"
    },
    "id": "26wxOdY5zND8",
    "outputId": "3ba28aed-73cf-4b64-9302-ffc0f3fd0372",
    "slideshow": {
     "slide_type": "fragment"
    }
   },
   "outputs": [
    {
     "name": "stdout",
     "output_type": "stream",
     "text": [
      "2.0\n"
     ]
    }
   ],
   "source": [
    "# To create a variable, need to use '=' to assign a value \n",
    "\n",
    "var_test = 4/2\n",
    "\n",
    "# To know the value that has been assigned to the variable \n",
    "# use 'print()' \n",
    "# and put the name of the variable in the bracket. \n",
    "\n",
    "print(var_test)"
   ]
  },
  {
   "cell_type": "markdown",
   "metadata": {
    "id": "3Wra3bck8OD0",
    "slideshow": {
     "slide_type": "slide"
    }
   },
   "source": [
    "## Changing Value of the Variable \n",
    "(Manipulating a Variable)"
   ]
  },
  {
   "cell_type": "code",
   "execution_count": 19,
   "metadata": {
    "colab": {
     "base_uri": "https://localhost:8080/"
    },
    "id": "yD6XLeh04w0Z",
    "outputId": "b39b1e57-572c-4e6b-fb4a-4f4708c8af1b",
    "slideshow": {
     "slide_type": "fragment"
    }
   },
   "outputs": [
    {
     "name": "stdout",
     "output_type": "stream",
     "text": [
      "2.0\n"
     ]
    }
   ],
   "source": [
    "# Recall var_test \n",
    "print(var_test)\n",
    "\n",
    "# Change the value/ re-assign \n",
    "var_test = 50 "
   ]
  },
  {
   "cell_type": "markdown",
   "metadata": {
    "id": "cf25KjRC9S7-",
    "slideshow": {
     "slide_type": "fragment"
    }
   },
   "source": [
    "If we will again print the value of var_test anytime again in the code, it will only give the latest assigned value. "
   ]
  },
  {
   "cell_type": "code",
   "execution_count": 20,
   "metadata": {
    "colab": {
     "base_uri": "https://localhost:8080/"
    },
    "id": "IGg26jUEwd3F",
    "outputId": "56af7b36-19e8-4975-f367-f1e888ec6099",
    "slideshow": {
     "slide_type": "fragment"
    }
   },
   "outputs": [
    {
     "name": "stdout",
     "output_type": "stream",
     "text": [
      "50\n"
     ]
    }
   ],
   "source": [
    "# Print the newly assigned value\n",
    "\n",
    "print(var_test)"
   ]
  },
  {
   "cell_type": "markdown",
   "metadata": {
    "id": "IecgEX2b9-Tk",
    "slideshow": {
     "slide_type": "slide"
    }
   },
   "source": [
    "### Increase the Value of the Variable"
   ]
  },
  {
   "cell_type": "code",
   "execution_count": 21,
   "metadata": {
    "colab": {
     "base_uri": "https://localhost:8080/"
    },
    "id": "v3kFUrpCwd54",
    "outputId": "49b52e1f-f7ef-4fb5-9811-48ac7eacf04a",
    "slideshow": {
     "slide_type": "fragment"
    }
   },
   "outputs": [
    {
     "name": "stdout",
     "output_type": "stream",
     "text": [
      "60\n"
     ]
    }
   ],
   "source": [
    "var_test = var_test + 10\n",
    "\n",
    "# print to see the change in the value of the variable \n",
    "print(var_test)"
   ]
  },
  {
   "cell_type": "markdown",
   "metadata": {
    "id": "DF7aBqUvXH7a",
    "slideshow": {
     "slide_type": "slide"
    }
   },
   "source": [
    "# Functions 🤖"
   ]
  },
  {
   "cell_type": "markdown",
   "metadata": {
    "id": "yuPQ0ZxHXgIX",
    "slideshow": {
     "slide_type": "fragment"
    }
   },
   "source": [
    "Lots of built-in functions but we sometimes still need to define our own functions to cater to our needs. \n",
    "\n",
    "**Function** is a **block of code** that is designed to perform a specific task. \n",
    "\n",
    "Function helps us do same calculation multiple times without repeating the same code again and again.  \n",
    "\n",
    "\n",
    "\n"
   ]
  },
  {
   "cell_type": "markdown",
   "metadata": {
    "id": "GEFrM2y-x1Im",
    "slideshow": {
     "slide_type": "fragment"
    }
   },
   "source": [
    "\n",
    "\n",
    "1.   Define the function\n",
    "2.   Header\n",
    "3.   Body\n",
    "\n"
   ]
  },
  {
   "cell_type": "code",
   "execution_count": 22,
   "metadata": {
    "id": "Jq3akTjNwd8S",
    "slideshow": {
     "slide_type": "slide"
    }
   },
   "outputs": [],
   "source": [
    "# Simple Example \n",
    "\n",
    "def add_ten(input_var):\n",
    "    output_var = input_var + 10 \n",
    "    return output_var"
   ]
  },
  {
   "cell_type": "markdown",
   "metadata": {
    "id": "49HXVoEsy3Ca",
    "slideshow": {
     "slide_type": "subslide"
    }
   },
   "source": [
    "### Header- specifies the name of the function and its arguments\n",
    "\n",
    "    def add_ten(input_var):\n"
   ]
  },
  {
   "cell_type": "markdown",
   "metadata": {
    "id": "S7JIoBAty7ey",
    "slideshow": {
     "slide_type": "fragment"
    }
   },
   "source": [
    "### Body- specifies the work that the function does\n",
    "\n",
    "    output_var = input_var + 10\n",
    "    return output_var\n",
    "\n",
    "  Every line of code in the function of the body must be indented. \n",
    "\n",
    "  You can do this by hitting the \"Tab\" button. \n",
    "  \n",
    "  For example, \n",
    "\n",
    "    def add_ten(input_var):\n",
    "        output_var = input_var + 10 # This is indented. "
   ]
  },
  {
   "cell_type": "markdown",
   "metadata": {
    "id": "nnhf3Rxpz0G5",
    "slideshow": {
     "slide_type": "subslide"
    }
   },
   "source": [
    "Components of a Function | Purpose\n",
    "-|-\n",
    "def        | the keyword tells Python we are about to **def**ine a function\n",
    "-|-\n",
    "add_ten    | name of the function that we want to define \n",
    "-|-\n",
    "input_var  | function's argument \n",
    "-| Note: a function can have no arguments or it can have multiple arguments\n",
    "-| The brackets enclosing the function argument(s) must be followed by a colon \":\"\n",
    "return     | keyword that tells Python that we are about to exit the function\n",
    "-|-\n",
    "output_var | value that is returned when the function is exited"
   ]
  },
  {
   "cell_type": "markdown",
   "metadata": {
    "id": "IZQThwzq4M1J",
    "slideshow": {
     "slide_type": "slide"
    }
   },
   "source": [
    "### How it works \n",
    "\n",
    "\n",
    "The function does its work by running all of the indented lines from top to bottom.  \n",
    "*   It takes the argument as input, which in the example is input_var.\n",
    "*   The function creates a new variable output_var with the calculation output_var = input_var + 10.\n",
    "*  Then, the final line of code, called the return statement, just returns the value in output_var as the function's output\n",
    "\n",
    "\n",
    "\n",
    "\n"
   ]
  },
  {
   "cell_type": "markdown",
   "metadata": {
    "id": "XDom2sWs48Qi",
    "slideshow": {
     "slide_type": "subslide"
    }
   },
   "source": [
    "### How to run (or \"call\") a function\n",
    "\n",
    "\n",
    "\n",
    "*   We run the function defined as add_ten with an input value say 3.\n",
    "*   We define a new variable say new_var which is set equal to the output of the function. \n",
    "\n"
   ]
  },
  {
   "cell_type": "code",
   "execution_count": 23,
   "metadata": {
    "colab": {
     "base_uri": "https://localhost:8080/",
     "height": 240
    },
    "id": "_0qJaMDTXOSz",
    "outputId": "6427926b-bd62-45e4-ead3-4c5b7b71947a",
    "slideshow": {
     "slide_type": "fragment"
    }
   },
   "outputs": [
    {
     "name": "stdout",
     "output_type": "stream",
     "text": [
      "13\n"
     ]
    }
   ],
   "source": [
    "# Running the function add_ten with the input say 3\n",
    "\n",
    "new_var = add_ten(3)\n",
    "\n",
    "# Check the output. \n",
    "print(new_var) # Is it same as expected?"
   ]
  },
  {
   "cell_type": "markdown",
   "metadata": {
    "id": "Hy8IYTKZ56PD",
    "slideshow": {
     "slide_type": "slide"
    }
   },
   "source": [
    "### Behind the Scenes\n",
    "*   The function does its work by running all of the indented lines from top to bottom.\n",
    "\n",
    "\n",
    "*   It takes the argument as input, which in the example is input_var.\n",
    "\n",
    "\n",
    "*   The function creates a new variable output_var with the calculation output_var = input_var + 10.\n",
    "\n",
    "\n",
    "*   Then, the final line of code, called the return statement, just returns the value in output_var as the function's output.\n",
    "\n"
   ]
  },
  {
   "cell_type": "markdown",
   "metadata": {
    "id": "-7qDsMKnaHJ8",
    "slideshow": {
     "slide_type": "subslide"
    }
   },
   "source": [
    "Further details, \n",
    "*   **add_ten(3)** is the value that we get as output when we supply 3 as the value for input_var and call the add_ten() function.\n",
    "\n",
    "\n",
    "*   When the function runs, it runs all of the code in its body, from top to bottom:\n",
    "\n",
    "    * It first calculates output_var = input_var + 3, which sets output_var = 13.\n",
    "    * The final line of code is the return statement, which returns the value of output_var, which is 13.\n",
    "    * By setting **new_number = add_ten(3)**, we set **new_number = 13**.\n",
    "\n"
   ]
  },
  {
   "cell_type": "markdown",
   "metadata": {
    "id": "TQC1j-jxcLVH",
    "slideshow": {
     "slide_type": "slide"
    }
   },
   "source": [
    "## Naming Functions"
   ]
  },
  {
   "cell_type": "markdown",
   "metadata": {
    "id": "V31-gpZocStm",
    "slideshow": {
     "slide_type": "fragment"
    }
   },
   "source": [
    "\n",
    "\n",
    "Use only **lowercase** letters, with words separated by **underscores** instead of spaces.\n",
    "\n",
    "\n"
   ]
  },
  {
   "cell_type": "markdown",
   "metadata": {
    "id": "W5VDZI1TdMY4",
    "slideshow": {
     "slide_type": "slide"
    }
   },
   "source": [
    "## Variable \"scope\""
   ]
  },
  {
   "cell_type": "markdown",
   "metadata": {
    "id": "hPnrfDpzd9KQ",
    "slideshow": {
     "slide_type": "fragment"
    }
   },
   "source": [
    "Variables defined inside the function body **cannot be accessed outside** of the function.  "
   ]
  },
  {
   "cell_type": "code",
   "execution_count": 24,
   "metadata": {
    "id": "cHc4gj4bXOQS",
    "slideshow": {
     "slide_type": "subslide"
    }
   },
   "outputs": [
    {
     "ename": "NameError",
     "evalue": "name 'output_var' is not defined",
     "output_type": "error",
     "traceback": [
      "\u001b[0;31m---------------------------------------------------------------------------\u001b[0m",
      "\u001b[0;31mNameError\u001b[0m                                 Traceback (most recent call last)",
      "Input \u001b[0;32mIn [24]\u001b[0m, in \u001b[0;36m<cell line: 15>\u001b[0;34m()\u001b[0m\n\u001b[1;32m     11\u001b[0m     output_var \u001b[38;5;241m=\u001b[39m input_var \u001b[38;5;241m+\u001b[39m \u001b[38;5;241m10\u001b[39m\n\u001b[1;32m     13\u001b[0m     \u001b[38;5;28;01mreturn\u001b[39;00m output_var\n\u001b[0;32m---> 15\u001b[0m \u001b[43moutput_var\u001b[49m\n",
      "\u001b[0;31mNameError\u001b[0m: name 'output_var' is not defined"
     ]
    }
   ],
   "source": [
    "# Using earlier example \n",
    "\n",
    "def add_ten(input_var):\n",
    "\n",
    "     # Docstring: triple quoted statement that comes immediately \n",
    "     # after the header of a function. \n",
    "     # We can call help on our function as well.\n",
    "     # help(add_ten) will display the docstring \n",
    "    \"\"\" Returns the input number after adding 10 to it\"\"\"\n",
    "\n",
    "    output_var = input_var + 10\n",
    "\n",
    "    return output_var\n",
    "\n",
    "output_var\n",
    "\n",
    "# This is because output_var only exists within the function"
   ]
  },
  {
   "cell_type": "markdown",
   "metadata": {
    "id": "LsCWPpjUXFi3",
    "slideshow": {
     "slide_type": "subslide"
    }
   },
   "source": [
    "Therefore,\n",
    "\n",
    "1. Variables defined *inside a function* have a **local scope** of that function only. \n",
    "\n",
    "2. Variables defined *outside all functions* have a **global scope** and can be accessed anywhere."
   ]
  },
  {
   "cell_type": "markdown",
   "metadata": {
    "id": "kj_EA1IVXyog",
    "slideshow": {
     "slide_type": "slide"
    }
   },
   "source": [
    "## Functions with Multiple Arguments"
   ]
  },
  {
   "cell_type": "code",
   "execution_count": 25,
   "metadata": {
    "id": "h2JzMROmweB3",
    "slideshow": {
     "slide_type": "fragment"
    }
   },
   "outputs": [],
   "source": [
    "def add_ten2(input1_var, input2_var ):\n",
    "    output_var = input1_var + input2_var*10 \n",
    "    return output_var"
   ]
  },
  {
   "cell_type": "code",
   "execution_count": 26,
   "metadata": {
    "colab": {
     "base_uri": "https://localhost:8080/"
    },
    "id": "cVurNmjXXnNF",
    "outputId": "d6d930a3-79ce-4a8a-9e25-db2ee1a9e821",
    "slideshow": {
     "slide_type": "fragment"
    }
   },
   "outputs": [
    {
     "data": {
      "text/plain": [
       "23"
      ]
     },
     "execution_count": 26,
     "metadata": {},
     "output_type": "execute_result"
    }
   ],
   "source": [
    "add_ten2(3, 2)"
   ]
  },
  {
   "cell_type": "markdown",
   "metadata": {
    "id": "m2rAF0o0_wES",
    "slideshow": {
     "slide_type": "slide"
    }
   },
   "source": [
    "## Functions with No Arguments\n",
    "\n",
    "Functions with no arguments and don't have a return statement."
   ]
  },
  {
   "cell_type": "code",
   "execution_count": 27,
   "metadata": {
    "colab": {
     "base_uri": "https://localhost:8080/"
    },
    "id": "PZZCkXG5weEB",
    "outputId": "cd5c0fbd-8e14-4305-f9a6-6a45c6538298",
    "slideshow": {
     "slide_type": "fragment"
    }
   },
   "outputs": [
    {
     "name": "stdout",
     "output_type": "stream",
     "text": [
      "Hello world!\n"
     ]
    }
   ],
   "source": [
    "def say_hello():\n",
    "    print(\"Hello world!\")\n",
    "\n",
    "# Call the function \n",
    "\n",
    "say_hello()"
   ]
  },
  {
   "cell_type": "markdown",
   "metadata": {
    "id": "sbs1jybzAuNO",
    "slideshow": {
     "slide_type": "slide"
    }
   },
   "source": [
    "# Data Types"
   ]
  },
  {
   "cell_type": "markdown",
   "metadata": {
    "id": "x3rdkAu9AyxB",
    "slideshow": {
     "slide_type": "fragment"
    }
   },
   "source": [
    "Data Types: \n",
    "1. Integers\n",
    "2. Floats \n",
    "3. Booleans \n",
    "4. Strings\n",
    "\n",
    "Verify data type with:\n",
    "\n",
    "    type()\n",
    "\n",
    "    print(type()) # That's how we use it. "
   ]
  },
  {
   "cell_type": "markdown",
   "metadata": {
    "id": "_Vh8q_lOBZTB",
    "slideshow": {
     "slide_type": "slide"
    }
   },
   "source": [
    "### Integer"
   ]
  },
  {
   "cell_type": "code",
   "execution_count": 28,
   "metadata": {
    "colab": {
     "base_uri": "https://localhost:8080/"
    },
    "id": "F_794_cMA_Y2",
    "outputId": "c367a29d-06e6-4438-f733-b857650b9028",
    "slideshow": {
     "slide_type": "fragment"
    }
   },
   "outputs": [
    {
     "name": "stdout",
     "output_type": "stream",
     "text": [
      "<class 'int'>\n"
     ]
    }
   ],
   "source": [
    "x = 2\n",
    "\n",
    "print(type(x))"
   ]
  },
  {
   "cell_type": "markdown",
   "metadata": {
    "id": "jIugIw54BlcF",
    "slideshow": {
     "slide_type": "slide"
    }
   },
   "source": [
    "### Floats\n",
    "\n",
    "are numbers with fractional parts. \n",
    "\n",
    "They can have many digits after decimal. "
   ]
  },
  {
   "cell_type": "code",
   "execution_count": 29,
   "metadata": {
    "colab": {
     "base_uri": "https://localhost:8080/"
    },
    "id": "9H9qNh-2B6JP",
    "outputId": "f56ac00f-2987-4ab7-f4e3-f5a72f33a388",
    "slideshow": {
     "slide_type": "fragment"
    }
   },
   "outputs": [
    {
     "name": "stdout",
     "output_type": "stream",
     "text": [
      "<class 'float'>\n"
     ]
    }
   ],
   "source": [
    "pi = 3.141592653\n",
    "\n",
    "print(type(pi))"
   ]
  },
  {
   "cell_type": "code",
   "execution_count": 30,
   "metadata": {
    "colab": {
     "base_uri": "https://localhost:8080/"
    },
    "id": "0Hr4VsNGDRW5",
    "outputId": "169caf9d-d347-4393-8dda-06f5b2a5d829",
    "slideshow": {
     "slide_type": "fragment"
    }
   },
   "outputs": [
    {
     "name": "stdout",
     "output_type": "stream",
     "text": [
      "<class 'float'>\n",
      "3.14\n"
     ]
    }
   ],
   "source": [
    "# Round the number \n",
    "\n",
    "## Let's say to two decimal places\n",
    "rounded = round(pi, 2)\n",
    "\n",
    "print(type(rounded))\n",
    "print(rounded)"
   ]
  },
  {
   "cell_type": "markdown",
   "metadata": {
    "id": "y7OhUpZcDrzz",
    "slideshow": {
     "slide_type": "subslide"
    }
   },
   "source": [
    "Python recognizes a number written with a decimal point as a float data type. \n"
   ]
  },
  {
   "cell_type": "code",
   "execution_count": 31,
   "metadata": {
    "colab": {
     "base_uri": "https://localhost:8080/"
    },
    "id": "VRxYEVGzD37-",
    "outputId": "7fb6c285-732e-443a-8f85-df12e0fcbbc1",
    "slideshow": {
     "slide_type": "fragment"
    }
   },
   "outputs": [
    {
     "name": "stdout",
     "output_type": "stream",
     "text": [
      "<class 'float'>\n"
     ]
    }
   ],
   "source": [
    "y = 1.00\n",
    "\n",
    "print(type(y))"
   ]
  },
  {
   "cell_type": "markdown",
   "metadata": {
    "id": "hc-FJlfTdHUl",
    "slideshow": {
     "slide_type": "slide"
    }
   },
   "source": [
    "### Booleans\n",
    "\n",
    "Represents one of two values: \n",
    "\n",
    "True or False "
   ]
  },
  {
   "cell_type": "code",
   "execution_count": 32,
   "metadata": {
    "colab": {
     "base_uri": "https://localhost:8080/"
    },
    "id": "I4zSsIbmdF1q",
    "outputId": "58528405-726d-4682-b673-e3566e873060",
    "slideshow": {
     "slide_type": "fragment"
    }
   },
   "outputs": [
    {
     "name": "stdout",
     "output_type": "stream",
     "text": [
      "True\n",
      "<class 'bool'>\n"
     ]
    }
   ],
   "source": [
    "var_one = True \n",
    "\n",
    "print(var_one)\n",
    "\n",
    "print(type(var_one))"
   ]
  },
  {
   "cell_type": "code",
   "execution_count": 33,
   "metadata": {
    "colab": {
     "base_uri": "https://localhost:8080/"
    },
    "id": "93YA08_2dFg8",
    "outputId": "afd28038-3ec8-4362-851f-d3ae9a6c79e5",
    "slideshow": {
     "slide_type": "fragment"
    }
   },
   "outputs": [
    {
     "name": "stdout",
     "output_type": "stream",
     "text": [
      "False\n",
      "<class 'bool'>\n"
     ]
    }
   ],
   "source": [
    "var_two = False\n",
    "\n",
    "print(var_two)\n",
    "\n",
    "print(type(var_two))"
   ]
  },
  {
   "cell_type": "markdown",
   "metadata": {
    "id": "wVezeGR7ekYh",
    "slideshow": {
     "slide_type": "subslide"
    }
   },
   "source": [
    "Booleans are used to represent the truth value of an expression. \n",
    "\n",
    "If a statement is true, then it takes the value 'True'. "
   ]
  },
  {
   "cell_type": "code",
   "execution_count": 34,
   "metadata": {
    "colab": {
     "base_uri": "https://localhost:8080/"
    },
    "id": "p1VNi5bbegf0",
    "outputId": "a40ec8e3-b0ab-404a-b9b8-1206dc3dcaed",
    "slideshow": {
     "slide_type": "fragment"
    }
   },
   "outputs": [
    {
     "name": "stdout",
     "output_type": "stream",
     "text": [
      "True\n",
      "<class 'bool'>\n"
     ]
    }
   ],
   "source": [
    "var_three = (2 < 4)\n",
    "\n",
    "print(var_three)\n",
    "\n",
    "print(type(var_three))\n"
   ]
  },
  {
   "cell_type": "code",
   "execution_count": 35,
   "metadata": {
    "colab": {
     "base_uri": "https://localhost:8080/"
    },
    "id": "BDUMDxKpegcW",
    "outputId": "e2cf02e7-b0bf-4418-8d6c-9e675cd43e87",
    "slideshow": {
     "slide_type": "fragment"
    }
   },
   "outputs": [
    {
     "name": "stdout",
     "output_type": "stream",
     "text": [
      "False\n",
      "<class 'bool'>\n"
     ]
    }
   ],
   "source": [
    "var_four = (3 < 1)\n",
    "\n",
    "print(var_four)\n",
    "\n",
    "print(type(var_four))"
   ]
  },
  {
   "cell_type": "markdown",
   "metadata": {
    "id": "Othe2dv0gB2x",
    "slideshow": {
     "slide_type": "subslide"
    }
   },
   "source": [
    "Switch the value of a boolean by using 'not'. "
   ]
  },
  {
   "cell_type": "code",
   "execution_count": 36,
   "metadata": {
    "colab": {
     "base_uri": "https://localhost:8080/"
    },
    "id": "fC2QeQrVegZI",
    "outputId": "8e8ee80a-8050-4027-9ad3-8d039e633dfe",
    "slideshow": {
     "slide_type": "fragment"
    }
   },
   "outputs": [
    {
     "name": "stdout",
     "output_type": "stream",
     "text": [
      "False\n",
      "<class 'bool'>\n"
     ]
    }
   ],
   "source": [
    "var_five = not var_three\n",
    "\n",
    "print(var_five)\n",
    "\n",
    "print(type(var_five))\n",
    "\n"
   ]
  },
  {
   "cell_type": "markdown",
   "metadata": {
    "id": "vAeh7WdesYJy",
    "slideshow": {
     "slide_type": "subslide"
    }
   },
   "source": [
    "**Booleans play an important role in conditions and conditional statements.**"
   ]
  },
  {
   "cell_type": "markdown",
   "metadata": {
    "id": "7e9vD23zg0Yp",
    "slideshow": {
     "slide_type": "slide"
    }
   },
   "source": [
    "### Strings\n",
    "\n",
    "Collection of characters:\n",
    "\n",
    "like alphabet letters, punctuation, numerical digits, or symbols\n",
    "\n",
    "contained in quotation marks"
   ]
  },
  {
   "cell_type": "code",
   "execution_count": 37,
   "metadata": {
    "colab": {
     "base_uri": "https://localhost:8080/"
    },
    "id": "QaKk_CQDehMt",
    "outputId": "0f247bf2-c534-40c7-c3e3-d266f0d8c7c5",
    "slideshow": {
     "slide_type": "fragment"
    }
   },
   "outputs": [
    {
     "name": "stdout",
     "output_type": "stream",
     "text": [
      "Hello world!\n",
      "<class 'str'>\n"
     ]
    }
   ],
   "source": [
    "world = \"Hello world!\"\n",
    "\n",
    "print(world)\n",
    "print(type(world))"
   ]
  },
  {
   "cell_type": "markdown",
   "metadata": {
    "id": "2oLfJigqs4Wg",
    "slideshow": {
     "slide_type": "subslide"
    }
   },
   "source": [
    "**Length of a string** is an often important requirement.\n",
    "\n",
    "**len()**\n",
    "\n",
    "-- includes space, comma and exclamation mark. \n",
    "\n",
    "-- quotation marks are not included in the calculation."
   ]
  },
  {
   "cell_type": "code",
   "execution_count": 38,
   "metadata": {
    "colab": {
     "base_uri": "https://localhost:8080/"
    },
    "id": "T9z_xF_WehKE",
    "outputId": "64c2a95d-b00d-4b38-cbaa-874d328e18e7",
    "slideshow": {
     "slide_type": "fragment"
    }
   },
   "outputs": [
    {
     "name": "stdout",
     "output_type": "stream",
     "text": [
      "12\n"
     ]
    }
   ],
   "source": [
    "print(len(world))"
   ]
  },
  {
   "cell_type": "markdown",
   "metadata": {
    "id": "wlvlwkdNt1oj",
    "slideshow": {
     "slide_type": "subslide"
    }
   },
   "source": [
    "Special String: \n",
    "\n",
    "Empty string --> **Zero Length**"
   ]
  },
  {
   "cell_type": "code",
   "execution_count": 39,
   "metadata": {
    "colab": {
     "base_uri": "https://localhost:8080/"
    },
    "id": "NIHRVELIsAZI",
    "outputId": "7d00ae31-beda-4f33-bdaf-b4c1ee772626",
    "slideshow": {
     "slide_type": "fragment"
    }
   },
   "outputs": [
    {
     "name": "stdout",
     "output_type": "stream",
     "text": [
      "<class 'str'>\n",
      "0\n"
     ]
    }
   ],
   "source": [
    "empty_string = \"\"\n",
    "print(type(empty_string))\n",
    "print(len(empty_string))"
   ]
  },
  {
   "cell_type": "markdown",
   "metadata": {
    "id": "CJSsTCGKuZHH",
    "slideshow": {
     "slide_type": "subslide"
    }
   },
   "source": [
    "Anything put within quotation marks has a string data type even if it's a number. "
   ]
  },
  {
   "cell_type": "code",
   "execution_count": 40,
   "metadata": {
    "colab": {
     "base_uri": "https://localhost:8080/"
    },
    "id": "TjUT9POBsAWZ",
    "outputId": "93af5f13-6c6e-4809-aef6-2a23cf5efe58",
    "slideshow": {
     "slide_type": "fragment"
    }
   },
   "outputs": [
    {
     "name": "stdout",
     "output_type": "stream",
     "text": [
      "2.345\n",
      "<class 'str'>\n"
     ]
    }
   ],
   "source": [
    "number_string = \"2.345\"\n",
    "print(number_string)\n",
    "print(type(number_string))"
   ]
  },
  {
   "cell_type": "markdown",
   "metadata": {
    "id": "CzWBu2QFu5iB",
    "slideshow": {
     "slide_type": "subslide"
    }
   },
   "source": [
    "We can **covert a number stored as a string** to a numerical data type such as float. "
   ]
  },
  {
   "cell_type": "code",
   "execution_count": 41,
   "metadata": {
    "colab": {
     "base_uri": "https://localhost:8080/"
    },
    "id": "0BGLCNhtu5NH",
    "outputId": "7163c03e-2974-40d1-cf7e-d5c210c43ff2",
    "slideshow": {
     "slide_type": "fragment"
    }
   },
   "outputs": [
    {
     "name": "stdout",
     "output_type": "stream",
     "text": [
      "2.345\n",
      "<class 'float'>\n"
     ]
    }
   ],
   "source": [
    "number_float = float(number_string)\n",
    "print(number_float)\n",
    "print(type(number_float))"
   ]
  },
  {
   "cell_type": "markdown",
   "metadata": {
    "id": "QMCpyiecvry-",
    "slideshow": {
     "slide_type": "subslide"
    }
   },
   "source": [
    "Add two strings!!"
   ]
  },
  {
   "cell_type": "code",
   "execution_count": 42,
   "metadata": {
    "colab": {
     "base_uri": "https://localhost:8080/"
    },
    "id": "uLAiG2y5sAT6",
    "outputId": "7ab3cbfe-bdba-4c86-a1dc-d096d9ab7fa9",
    "slideshow": {
     "slide_type": "fragment"
    }
   },
   "outputs": [
    {
     "name": "stdout",
     "output_type": "stream",
     "text": [
      "sunscreen\n",
      "<class 'str'>\n"
     ]
    }
   ],
   "source": [
    "sum_string = \"sun\" + \"screen\"\n",
    "print(sum_string)\n",
    "print(type(sum_string))"
   ]
  },
  {
   "cell_type": "markdown",
   "metadata": {
    "id": "3j6i2P9dwNb7",
    "slideshow": {
     "slide_type": "subslide"
    }
   },
   "source": [
    "Multiplying a string with an integer. "
   ]
  },
  {
   "cell_type": "code",
   "execution_count": 43,
   "metadata": {
    "colab": {
     "base_uri": "https://localhost:8080/"
    },
    "id": "5ZcW_0k3sAQx",
    "outputId": "08d77dc4-7ca7-41d3-b5cc-0e11d0495f78",
    "slideshow": {
     "slide_type": "fragment"
    }
   },
   "outputs": [
    {
     "name": "stdout",
     "output_type": "stream",
     "text": [
      "Blah Blah Blah \n",
      "<class 'str'>\n"
     ]
    }
   ],
   "source": [
    "multiple_string = \"Blah \"*3\n",
    "print(multiple_string)\n",
    "print(type(multiple_string))\n"
   ]
  },
  {
   "cell_type": "markdown",
   "metadata": {
    "id": "co_xvtr6xadV",
    "slideshow": {
     "slide_type": "slide"
    }
   },
   "source": [
    "# Conditions and Conditional Statements\n",
    "- Modifying the functions\n",
    "\n",
    "- Writing more **advanced functions** where the output of the function depends on different conditions. "
   ]
  },
  {
   "cell_type": "markdown",
   "metadata": {
    "id": "viU9Vx9eyghm",
    "slideshow": {
     "slide_type": "slide"
    }
   },
   "source": [
    "## Conditions"
   ]
  },
  {
   "cell_type": "code",
   "execution_count": 44,
   "metadata": {
    "colab": {
     "base_uri": "https://localhost:8080/"
    },
    "id": "uGpYb3QHsBpB",
    "outputId": "59e1de97-603a-48ff-d68e-3dc8299cd728",
    "slideshow": {
     "slide_type": "fragment"
    }
   },
   "outputs": [
    {
     "name": "stdout",
     "output_type": "stream",
     "text": [
      "False\n"
     ]
    }
   ],
   "source": [
    "# Simple Example: \n",
    "# Comparing two values is a condition \n",
    "\n",
    "print(1>2)\n"
   ]
  },
  {
   "cell_type": "code",
   "execution_count": 45,
   "metadata": {
    "colab": {
     "base_uri": "https://localhost:8080/"
    },
    "id": "DUwPQ-iAsBmg",
    "outputId": "6cd056af-fe60-4fa3-e512-a978c0a21714",
    "slideshow": {
     "slide_type": "fragment"
    }
   },
   "outputs": [
    {
     "name": "stdout",
     "output_type": "stream",
     "text": [
      "True\n",
      "False\n"
     ]
    }
   ],
   "source": [
    "# Comparing the values of variables\n",
    "\n",
    "var_one = 1 \n",
    "var_two = 2\n",
    "\n",
    "print(var_one >=1)\n",
    "print(var_two <2)\n"
   ]
  },
  {
   "cell_type": "markdown",
   "metadata": {
    "id": "CmLzzi3VzoSS",
    "slideshow": {
     "slide_type": "subslide"
    }
   },
   "source": [
    "Common Symbols used to construct conditions\n",
    "\n",
    "Symbol|Meaning\n",
    "--|--\n",
    "==| equals\n",
    "!=| does not equal\n",
    "<| less than \n",
    "<=| less than or equal to \n",
    ">| greater than \n",
    ">=| greater than or equal to \n"
   ]
  },
  {
   "cell_type": "markdown",
   "metadata": {
    "id": "tWbQ745C0h1B",
    "slideshow": {
     "slide_type": "fragment"
    }
   },
   "source": [
    "**Note**: \n",
    "\n",
    "'==' is used to check whether the values are equal.\n",
    "\n",
    "'=' is used to set the value e.g., for a variable.\n",
    "\n",
    "\n"
   ]
  },
  {
   "cell_type": "markdown",
   "metadata": {
    "id": "cicCfDHT1OXc",
    "slideshow": {
     "slide_type": "slide"
    }
   },
   "source": [
    "## Conditional Statement \n",
    "\n",
    "A conditional statement uses conditions to modify a function.\n",
    "\n",
    "They check the value of a condition, if the value is 'True' then a specific block of code runs. If the value is 'False', then that piece of code does not run. "
   ]
  },
  {
   "cell_type": "markdown",
   "metadata": {
    "id": "FCa_pxfQ3y2y",
    "slideshow": {
     "slide_type": "slide"
    }
   },
   "source": [
    "## **'if'** statement"
   ]
  },
  {
   "cell_type": "code",
   "execution_count": 46,
   "metadata": {
    "id": "UbXEr9hszn-j",
    "slideshow": {
     "slide_type": "fragment"
    }
   },
   "outputs": [],
   "source": [
    "def ice_water(temp):\n",
    "  # Set an initial\n",
    "  message = \"Ice is solid.\"\n",
    "  # Update the value of the initial only \n",
    "  # if the following condition is satisfied\n",
    "\n",
    "  if temp > 0:\n",
    "    message = \"Ice starts melting!\"\n",
    "\n",
    "  return message\n",
    "\n"
   ]
  },
  {
   "cell_type": "code",
   "execution_count": 47,
   "metadata": {
    "colab": {
     "base_uri": "https://localhost:8080/"
    },
    "id": "kdedTOSpsBjv",
    "outputId": "bf8154c7-1a22-49b4-ce52-6bef2512167c",
    "slideshow": {
     "slide_type": "fragment"
    }
   },
   "outputs": [
    {
     "name": "stdout",
     "output_type": "stream",
     "text": [
      "Ice is solid.\n"
     ]
    }
   ],
   "source": [
    "print(ice_water(-3))"
   ]
  },
  {
   "cell_type": "code",
   "execution_count": 48,
   "metadata": {
    "colab": {
     "base_uri": "https://localhost:8080/"
    },
    "id": "fs0taRIasBg4",
    "outputId": "8c215231-a260-40bd-8b41-05503af5d666",
    "slideshow": {
     "slide_type": "fragment"
    }
   },
   "outputs": [
    {
     "name": "stdout",
     "output_type": "stream",
     "text": [
      "Ice starts melting!\n"
     ]
    }
   ],
   "source": [
    "print(ice_water(1))"
   ]
  },
  {
   "cell_type": "markdown",
   "metadata": {
    "id": "R06vCJM-6I5s",
    "slideshow": {
     "slide_type": "subslide"
    }
   },
   "source": [
    "*Indentation*\n",
    "\n",
    "1. First indentation is to include the **code block inside a function**.\n",
    "2. Second indentation is with respect to the **\"if\" statement**.  "
   ]
  },
  {
   "cell_type": "markdown",
   "metadata": {
    "id": "sT-KpvPV7EbA",
    "slideshow": {
     "slide_type": "slide"
    }
   },
   "source": [
    "## **if... else** statements\n",
    "\n",
    "- The code under the 'if' statement is run if the statement is True.\n",
    "- The code under the 'else' statement is run if the statement is False.\n"
   ]
  },
  {
   "cell_type": "code",
   "execution_count": 49,
   "metadata": {
    "id": "2WNl0aUbehHY",
    "slideshow": {
     "slide_type": "fragment"
    }
   },
   "outputs": [],
   "source": [
    "def ice_water_else(temp):\n",
    "  if temp > 0:\n",
    "    message = \"Ice starts melting!\"\n",
    "  else: \n",
    "    message = \"Ice is solid.\"\n",
    "  \n",
    "  return message"
   ]
  },
  {
   "cell_type": "code",
   "execution_count": 50,
   "metadata": {
    "colab": {
     "base_uri": "https://localhost:8080/"
    },
    "id": "XWRE_UxawKNa",
    "outputId": "32d0a95c-5112-42f0-fea4-3be39c38ae0c",
    "slideshow": {
     "slide_type": "fragment"
    }
   },
   "outputs": [
    {
     "name": "stdout",
     "output_type": "stream",
     "text": [
      "Ice is solid.\n"
     ]
    }
   ],
   "source": [
    "print(ice_water_else(-4))"
   ]
  },
  {
   "cell_type": "code",
   "execution_count": 51,
   "metadata": {
    "colab": {
     "base_uri": "https://localhost:8080/"
    },
    "id": "TY8oYA1hwKKw",
    "outputId": "6d10d282-83ba-49e4-c277-a997ca43dc77",
    "slideshow": {
     "slide_type": "fragment"
    }
   },
   "outputs": [
    {
     "name": "stdout",
     "output_type": "stream",
     "text": [
      "Ice starts melting!\n"
     ]
    }
   ],
   "source": [
    "print(ice_water_else(2))"
   ]
  },
  {
   "cell_type": "markdown",
   "metadata": {
    "id": "wgVwFSK8D0JX",
    "slideshow": {
     "slide_type": "slide"
    }
   },
   "source": [
    "## **\"if...elif...else\"** statements\n",
    "\n",
    "- elif is short for \"else if\" to check if multiple conditions might be true. "
   ]
  },
  {
   "cell_type": "code",
   "execution_count": 52,
   "metadata": {
    "id": "WsUbgbAlwKH3",
    "slideshow": {
     "slide_type": "fragment"
    }
   },
   "outputs": [],
   "source": [
    "def ice_water_boiling_elif(temp):\n",
    "  if temp > 100:\n",
    "    message = \"Water is boiling!!\"\n",
    "  elif temp > 0: \n",
    "    message = \"Ice starts melting!\"\n",
    "  else:\n",
    "    message = \"Ice is solid.\"\n",
    "  \n",
    "  return message\n",
    "  "
   ]
  },
  {
   "cell_type": "markdown",
   "metadata": {
    "id": "hYP0X3lFFyNl",
    "slideshow": {
     "slide_type": "fragment"
    }
   },
   "source": [
    "- It checks the next condition if the previous condition was false. "
   ]
  },
  {
   "cell_type": "code",
   "execution_count": 53,
   "metadata": {
    "colab": {
     "base_uri": "https://localhost:8080/"
    },
    "id": "CdqbsbdFwKE5",
    "outputId": "884c9cb4-b56b-4951-8116-c8feb498b4a6",
    "slideshow": {
     "slide_type": "fragment"
    }
   },
   "outputs": [
    {
     "name": "stdout",
     "output_type": "stream",
     "text": [
      "Water is boiling!!\n"
     ]
    }
   ],
   "source": [
    "print(ice_water_boiling_elif(101))"
   ]
  },
  {
   "cell_type": "code",
   "execution_count": 54,
   "metadata": {
    "colab": {
     "base_uri": "https://localhost:8080/"
    },
    "id": "0c2s_ivlDSwU",
    "outputId": "eee2bfb3-4ee1-4976-cc49-4b995c68f9dc",
    "slideshow": {
     "slide_type": "fragment"
    }
   },
   "outputs": [
    {
     "name": "stdout",
     "output_type": "stream",
     "text": [
      "Ice starts melting!\n"
     ]
    }
   ],
   "source": [
    "print(ice_water_boiling_elif(1))"
   ]
  },
  {
   "cell_type": "markdown",
   "metadata": {
    "id": "rOnDgxvHGsIw",
    "slideshow": {
     "slide_type": "subslide"
    }
   },
   "source": [
    "The code under \"else\" statement would be executed only when both if and elif statements are false. "
   ]
  },
  {
   "cell_type": "code",
   "execution_count": 55,
   "metadata": {
    "colab": {
     "base_uri": "https://localhost:8080/"
    },
    "id": "y1GPNll4DSsU",
    "outputId": "6cf291df-6752-483c-891a-29b0117537e4",
    "slideshow": {
     "slide_type": "fragment"
    }
   },
   "outputs": [
    {
     "name": "stdout",
     "output_type": "stream",
     "text": [
      "Ice is solid.\n"
     ]
    }
   ],
   "source": [
    "print(ice_water_boiling_elif(-100))"
   ]
  },
  {
   "cell_type": "markdown",
   "metadata": {
    "id": "MwzFooxoMDuI",
    "slideshow": {
     "slide_type": "slide"
    }
   },
   "source": [
    "# Intro to Lists\n",
    "\n",
    "- Python has many data structures to **organise the data**\n",
    "- Data Structures like lists, sets, dictionaries and tuples."
   ]
  },
  {
   "cell_type": "code",
   "execution_count": 56,
   "metadata": {
    "id": "Hc2-LFR-DSls",
    "slideshow": {
     "slide_type": "fragment"
    }
   },
   "outputs": [],
   "source": [
    "countries = \"India, China, Burma, Sri Lanka, Thailand, Bhutan\""
   ]
  },
  {
   "cell_type": "code",
   "execution_count": 57,
   "metadata": {
    "colab": {
     "base_uri": "https://localhost:8080/"
    },
    "id": "Haksa5VpDSif",
    "outputId": "b314c9fa-05ae-44f9-f111-e6bc4e5a7988",
    "slideshow": {
     "slide_type": "fragment"
    }
   },
   "outputs": [
    {
     "name": "stdout",
     "output_type": "stream",
     "text": [
      "<class 'str'>\n"
     ]
    }
   ],
   "source": [
    "print(type(countries))"
   ]
  },
  {
   "cell_type": "code",
   "execution_count": 58,
   "metadata": {
    "colab": {
     "base_uri": "https://localhost:8080/"
    },
    "id": "wlgiUUhdDSed",
    "outputId": "06c4221b-1b9c-414a-fe3e-e18e86c79219",
    "slideshow": {
     "slide_type": "fragment"
    }
   },
   "outputs": [
    {
     "name": "stdout",
     "output_type": "stream",
     "text": [
      "India, China, Burma, Sri Lanka, Thailand, Bhutan\n"
     ]
    }
   ],
   "source": [
    "print(countries)"
   ]
  },
  {
   "cell_type": "markdown",
   "metadata": {
    "id": "bUXT6nWYZiH0",
    "slideshow": {
     "slide_type": "subslide"
    }
   },
   "source": [
    "Better way to represent is using **List** written with the help of [ , ] square brackets."
   ]
  },
  {
   "cell_type": "code",
   "execution_count": 59,
   "metadata": {
    "id": "LPUNSrfKZc55",
    "slideshow": {
     "slide_type": "fragment"
    }
   },
   "outputs": [],
   "source": [
    "countries_list = [\"India\", \"China\", \"Burma\", \"Sri Lanka\", \"Thailand\", \"Bhutan\"]"
   ]
  },
  {
   "cell_type": "code",
   "execution_count": 60,
   "metadata": {
    "colab": {
     "base_uri": "https://localhost:8080/"
    },
    "id": "M4o5xauGZc3o",
    "outputId": "000c0f42-21d6-4efd-fe9f-3bdb564a0d28",
    "slideshow": {
     "slide_type": "fragment"
    }
   },
   "outputs": [
    {
     "name": "stdout",
     "output_type": "stream",
     "text": [
      "<class 'list'>\n"
     ]
    }
   ],
   "source": [
    "print(type(countries_list))"
   ]
  },
  {
   "cell_type": "code",
   "execution_count": 61,
   "metadata": {
    "colab": {
     "base_uri": "https://localhost:8080/"
    },
    "id": "9EKoH79IZc1l",
    "outputId": "03c07c7f-4b80-4e4c-8e39-619188051fd3",
    "slideshow": {
     "slide_type": "fragment"
    }
   },
   "outputs": [
    {
     "name": "stdout",
     "output_type": "stream",
     "text": [
      "['India', 'China', 'Burma', 'Sri Lanka', 'Thailand', 'Bhutan']\n"
     ]
    }
   ],
   "source": [
    "print(countries_list)"
   ]
  },
  {
   "cell_type": "markdown",
   "metadata": {
    "id": "063SbX2SaXhn",
    "slideshow": {
     "slide_type": "subslide"
    }
   },
   "source": [
    "A list makes it easier to perform the following tasks:\n",
    "\n",
    "- get an item at a specified position\n",
    "- check the number of items \n",
    "- add and remove items"
   ]
  },
  {
   "cell_type": "markdown",
   "metadata": {
    "id": "LoUiCNCybGCu",
    "slideshow": {
     "slide_type": "slide"
    }
   },
   "source": [
    "**len()**: length "
   ]
  },
  {
   "cell_type": "code",
   "execution_count": 62,
   "metadata": {
    "colab": {
     "base_uri": "https://localhost:8080/"
    },
    "id": "swv0_FQPZczw",
    "outputId": "e8be07f8-f836-480e-d00c-7bd7526cd50b",
    "slideshow": {
     "slide_type": "fragment"
    }
   },
   "outputs": [
    {
     "name": "stdout",
     "output_type": "stream",
     "text": [
      "6\n"
     ]
    }
   ],
   "source": [
    "# Using len() to count the number of entries in a list \n",
    "\n",
    "print(len(countries_list))"
   ]
  },
  {
   "cell_type": "markdown",
   "metadata": {
    "id": "-0iyAg3VbU_w",
    "slideshow": {
     "slide_type": "slide"
    }
   },
   "source": [
    "**Indexing**: gives position in the list\n",
    "\n",
    "- first entry in the list, we use '0'\n",
    "- second entry, we use '1'\n",
    "- third entry, we use '2'\n",
    "- final entry, we use 'one less than the length of the list'"
   ]
  },
  {
   "cell_type": "code",
   "execution_count": 63,
   "metadata": {
    "colab": {
     "base_uri": "https://localhost:8080/"
    },
    "id": "6VAXVlLSZcvR",
    "outputId": "f82608da-8316-496b-d8e1-e4adca50fa38",
    "slideshow": {
     "slide_type": "fragment"
    }
   },
   "outputs": [
    {
     "name": "stdout",
     "output_type": "stream",
     "text": [
      "First entry: India\n",
      "Second entry: China\n",
      "Last entry: Bhutan\n"
     ]
    }
   ],
   "source": [
    "print('First entry:', countries_list[0])\n",
    "print('Second entry:', countries_list[1])\n",
    "print('Last entry:', countries_list[5])\n",
    "\n",
    "# Note: To print multiple items in a single command, use comma to separate."
   ]
  },
  {
   "cell_type": "markdown",
   "metadata": {
    "id": "IUh6YGVtdTIz",
    "slideshow": {
     "slide_type": "slide"
    }
   },
   "source": [
    "**Slicing**\n",
    "\n",
    "To take out a specific segment of a list. \n",
    "\n",
    "- pull the first 'x' entries, we use [ : x]\n",
    "- pull the last 'y' entries, we use [ -y : ]"
   ]
  },
  {
   "cell_type": "code",
   "execution_count": 64,
   "metadata": {
    "colab": {
     "base_uri": "https://localhost:8080/"
    },
    "id": "Ps4KYM5TZctB",
    "outputId": "aa60fe78-8983-48e8-850d-be249f2a0a1c",
    "slideshow": {
     "slide_type": "fragment"
    }
   },
   "outputs": [
    {
     "name": "stdout",
     "output_type": "stream",
     "text": [
      "First 2 entries: ['India', 'China']\n",
      "Last 2 entries: ['Thailand', 'Bhutan']\n"
     ]
    }
   ],
   "source": [
    "print(\"First 2 entries:\", countries_list[:2])\n",
    "\n",
    "# starting from index 0 and continuing up to but not including index 2.\n",
    "# that's how it gives you two entries. \n",
    "\n",
    "\n",
    "print(\"Last 2 entries:\", countries_list[-2:])"
   ]
  },
  {
   "cell_type": "markdown",
   "metadata": {
    "id": "ffpQNEoReO7m",
    "slideshow": {
     "slide_type": "slide"
    }
   },
   "source": [
    "**Removing Items**\n",
    "\n",
    "- remove an item from the list using .remove()"
   ]
  },
  {
   "cell_type": "code",
   "execution_count": 65,
   "metadata": {
    "colab": {
     "base_uri": "https://localhost:8080/"
    },
    "id": "S1USdHnpeddH",
    "outputId": "8d7cfd22-f350-4a36-d583-5adb9682374f",
    "slideshow": {
     "slide_type": "fragment"
    }
   },
   "outputs": [
    {
     "name": "stdout",
     "output_type": "stream",
     "text": [
      "['India', 'China', 'Burma', 'Sri Lanka', 'Thailand']\n"
     ]
    }
   ],
   "source": [
    "countries_list.remove('Bhutan')\n",
    "print(countries_list)"
   ]
  },
  {
   "cell_type": "markdown",
   "metadata": {
    "id": "o2pS0Quder-Q",
    "slideshow": {
     "slide_type": "slide"
    }
   },
   "source": [
    "**Adding Items**\n",
    "\n",
    "- add an item to the list with **.append()**"
   ]
  },
  {
   "cell_type": "code",
   "execution_count": 66,
   "metadata": {
    "id": "X93gJDLneQz8",
    "slideshow": {
     "slide_type": "fragment"
    }
   },
   "outputs": [],
   "source": [
    "countries_list.append('United States')\n"
   ]
  },
  {
   "cell_type": "code",
   "execution_count": 67,
   "metadata": {
    "colab": {
     "base_uri": "https://localhost:8080/"
    },
    "id": "InYOsmlmfRVT",
    "outputId": "443aaa7f-abc9-4da0-ab72-674e0fad154b",
    "slideshow": {
     "slide_type": "fragment"
    }
   },
   "outputs": [
    {
     "name": "stdout",
     "output_type": "stream",
     "text": [
      "['India', 'China', 'Burma', 'Sri Lanka', 'Thailand', 'United States']\n"
     ]
    }
   ],
   "source": [
    "print(countries_list)"
   ]
  },
  {
   "cell_type": "markdown",
   "metadata": {
    "id": "8mnygxZPf0Zs",
    "slideshow": {
     "slide_type": "slide"
    }
   },
   "source": [
    "**Lists can be with any data type**"
   ]
  },
  {
   "cell_type": "code",
   "execution_count": 68,
   "metadata": {
    "id": "-GDHMNTAeQw0",
    "slideshow": {
     "slide_type": "fragment"
    }
   },
   "outputs": [],
   "source": [
    "lectures_per_day = [5, 3, 1, 4, 2]"
   ]
  },
  {
   "cell_type": "code",
   "execution_count": 69,
   "metadata": {
    "colab": {
     "base_uri": "https://localhost:8080/"
    },
    "id": "9mjXUB35eQuF",
    "outputId": "6e4ea1fe-feae-4f51-a331-6339f877cc40",
    "slideshow": {
     "slide_type": "fragment"
    }
   },
   "outputs": [
    {
     "name": "stdout",
     "output_type": "stream",
     "text": [
      "Length of the list: 5\n",
      "Lectures on 3rd day: 1\n"
     ]
    }
   ],
   "source": [
    "print(\"Length of the list:\", len(lectures_per_day))\n",
    "print('Lectures on 3rd day:', lectures_per_day[2])"
   ]
  },
  {
   "cell_type": "code",
   "execution_count": 70,
   "metadata": {
    "colab": {
     "base_uri": "https://localhost:8080/"
    },
    "id": "VEyc7ZFyeQrw",
    "outputId": "98e3c4f3-c5a4-40b0-9dda-4bec94ba0a64",
    "slideshow": {
     "slide_type": "subslide"
    }
   },
   "outputs": [
    {
     "name": "stdout",
     "output_type": "stream",
     "text": [
      "Minimum: 1\n",
      "Maximum: 5\n"
     ]
    }
   ],
   "source": [
    "# Min and Max values \n",
    "\n",
    "print(\"Minimum:\", min(lectures_per_day))\n",
    "print('Maximum:', max(lectures_per_day))"
   ]
  },
  {
   "cell_type": "code",
   "execution_count": 71,
   "metadata": {
    "colab": {
     "base_uri": "https://localhost:8080/"
    },
    "id": "Bczv6DNreQpV",
    "outputId": "f91645a9-c133-483d-b718-669e3611cbe4",
    "slideshow": {
     "slide_type": "subslide"
    }
   },
   "outputs": [
    {
     "name": "stdout",
     "output_type": "stream",
     "text": [
      "Total number of lectures in the week: 15\n"
     ]
    }
   ],
   "source": [
    "# Sum up all the items in the list \n",
    "\n",
    "print('Total number of lectures in the week:', sum(lectures_per_day))"
   ]
  },
  {
   "cell_type": "code",
   "execution_count": 72,
   "metadata": {
    "colab": {
     "base_uri": "https://localhost:8080/"
    },
    "id": "cuJRml0seQm8",
    "outputId": "cc95dc6f-d1a6-4d8f-8c7b-21881a0c4cc3",
    "slideshow": {
     "slide_type": "subslide"
    }
   },
   "outputs": [
    {
     "name": "stdout",
     "output_type": "stream",
     "text": [
      "Average number of lectures in first three days: 3.0\n"
     ]
    }
   ],
   "source": [
    "# Perform the arithmetic operations on slices of the list \n",
    "\n",
    "print(\"Average number of lectures in first three days:\", sum(lectures_per_day[:3])/3)\n",
    "\n",
    "# To pull the first 3 entries, we are slicing [:3]\n"
   ]
  },
  {
   "cell_type": "markdown",
   "metadata": {
    "id": "FrYfQ7tBzRDc",
    "slideshow": {
     "slide_type": "slide"
    }
   },
   "source": [
    "Little Exercise for those paying attention 😀"
   ]
  },
  {
   "cell_type": "code",
   "execution_count": null,
   "metadata": {
    "id": "-VKkQDMSeQk0",
    "slideshow": {
     "slide_type": "fragment"
    }
   },
   "outputs": [],
   "source": [
    "spam_amount = 0\n",
    "print(spam_amount)\n",
    "\n",
    "spam_amount = spam_amount + 4\n",
    "\n",
    "if spam_amount > 0:\n",
    "    print(\"But I don't want ANY spam!\")\n",
    "\n",
    "song = \"Spam \" * spam_amount\n",
    "print(song)"
   ]
  }
 ],
 "metadata": {
  "celltoolbar": "Slideshow",
  "colab": {
   "name": "Python Workshop Day 1.ipynb",
   "provenance": []
  },
  "kernelspec": {
   "display_name": "Python 3 (ipykernel)",
   "language": "python",
   "name": "python3"
  },
  "language_info": {
   "codemirror_mode": {
    "name": "ipython",
    "version": 3
   },
   "file_extension": ".py",
   "mimetype": "text/x-python",
   "name": "python",
   "nbconvert_exporter": "python",
   "pygments_lexer": "ipython3",
   "version": "3.10.3"
  }
 },
 "nbformat": 4,
 "nbformat_minor": 4
}
